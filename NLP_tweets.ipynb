{
 "cells": [
  {
   "cell_type": "code",
   "execution_count": 76,
   "metadata": {},
   "outputs": [],
   "source": [
    "import pandas as pd\n",
    "import numpy as np\n",
    "import re\n",
    "from sklearn import linear_model, model_selection, preprocessing\n",
    "from sklearn.feature_extraction.text import CountVectorizer\n",
    "from sklearn.tree import DecisionTreeClassifier\n",
    "from sklearn.ensemble import RandomForestClassifier\n",
    "from sklearn import svm\n",
    "from sklearn.model_selection import KFold, cross_val_score, StratifiedKFold, GridSearchCV, RandomizedSearchCV, train_test_split\n",
    "from scipy.sparse import hstack\n",
    "from sklearn.linear_model import LogisticRegression\n",
    "from sklearn.metrics import accuracy_score"
   ]
  },
  {
   "cell_type": "code",
   "execution_count": 77,
   "metadata": {},
   "outputs": [],
   "source": [
    "train_data = pd.read_csv('train.csv')\n",
    "test_data = pd.read_csv('test.csv')\n",
    "submission = pd.read_csv('sample_submission.csv')"
   ]
  },
  {
   "cell_type": "code",
   "execution_count": 78,
   "metadata": {},
   "outputs": [],
   "source": [
    "def read_from_file(filename):\n",
    "    with open(filename, 'r', encoding='utf-8') as file:\n",
    "        data = file.read().splitlines()\n",
    "    return data\n",
    "\n",
    "input_filename_countries = 'country_names.txt'\n",
    "input_filename_cities = 'city_names.txt'\n",
    "country_names = read_from_file(input_filename_countries)\n",
    "city_names = read_from_file(input_filename_cities)"
   ]
  },
  {
   "cell_type": "code",
   "execution_count": 79,
   "metadata": {},
   "outputs": [],
   "source": [
    "def find_location_name(location, names):\n",
    "    for name in names:\n",
    "        if name in location:\n",
    "            return name\n",
    "    return ''"
   ]
  },
  {
   "cell_type": "code",
   "execution_count": 80,
   "metadata": {},
   "outputs": [],
   "source": [
    "train_data.location = train_data.location.fillna(' ')\n",
    "test_data.location = test_data.location.fillna(' ')\n",
    "train_data.location = train_data.location.str.lower()\n",
    "test_data.location = test_data.location.str.lower()\n",
    "\n",
    "locations_tr = [find_location_name(loc, city_names) for loc in train_data.location]\n",
    "locations_ts = [find_location_name(loc, city_names) for loc in test_data.location]\n",
    "\n",
    "train_data.location = locations_tr\n",
    "test_data.location = locations_ts"
   ]
  },
  {
   "cell_type": "code",
   "execution_count": 81,
   "metadata": {},
   "outputs": [],
   "source": [
    "#loc_values = location_tr.unique()\n",
    "#loc_dict = dict(zip(loc_values, [i for i in range(len(loc_values))]))\n",
    "#train_data.location = train_data.location.map(loc_dict)"
   ]
  },
  {
   "cell_type": "code",
   "execution_count": 82,
   "metadata": {},
   "outputs": [],
   "source": [
    "locations_tr_array = np.array(locations_tr, dtype='<U') \n",
    "output_filename = 'locations_tr.txt'\n",
    "np.savetxt(output_filename, locations_tr_array, fmt='%s')"
   ]
  },
  {
   "cell_type": "code",
   "execution_count": 83,
   "metadata": {},
   "outputs": [],
   "source": [
    "replace_list = [':', ';', ',', '.', '?', '!', '(', ')', '*', '{', '}', '[', ']', '-', '^']\n",
    "pattern = '|'.join([re.escape(char) for char in replace_list])\n",
    "#train_data.text = train_data.text.str.replace(pattern, '', regex=True)\n",
    "#test_data.text = test_data.text.str.replace(pattern, '', regex=True)\n",
    "#train_data.text = train_data.text.str.replace(r'\\bhttp\\S+\\b', '', regex=True)\n",
    "#test_data.text = test_data.text.str.replace(r'\\bhttp\\S+\\b', '', regex=True)\n",
    "#train_data.text = train_data.text.str.replace(r'\\b@\\S+\\b', '', regex=True)\n",
    "#test_data.text = test_data.text.str.replace(r'\\b@\\S+\\b', '', regex=True)\n",
    "train_data.text = train_data.text.str.replace('%20', ' ')\n",
    "train_data.text = train_data.text.str.replace('%20', ' ')\n",
    "train_data.text = train_data.text.str.lower()\n",
    "test_data.text = test_data.text.str.lower()\n",
    "\n",
    "train_data.keyword = train_data.keyword.fillna(' ')\n",
    "test_data.keyword = test_data.keyword.fillna(' ')\n",
    "train_data.keyword = train_data.keyword.str.lower()\n",
    "test_data.keyword = test_data.keyword.str.lower()\n",
    "train_data.keyword = train_data.keyword.str.replace('%20', ' ')\n",
    "test_data.keyword = test_data.keyword.str.replace('%20', ' ')"
   ]
  },
  {
   "cell_type": "code",
   "execution_count": 84,
   "metadata": {},
   "outputs": [
    {
     "data": {
      "text/plain": [
       "'1943: poland - work party prisoners in the nazi death camp treblinka rebelled seizing small arms and setting buildings on fire. #history'"
      ]
     },
     "execution_count": 84,
     "metadata": {},
     "output_type": "execute_result"
    }
   ],
   "source": [
    "train_data.text.iloc[1260]"
   ]
  },
  {
   "cell_type": "code",
   "execution_count": 85,
   "metadata": {},
   "outputs": [],
   "source": [
    "count_vectorizer = CountVectorizer()\n",
    "all_vector = count_vectorizer.fit_transform(train_data.text + train_data.keyword + train_data.location)"
   ]
  },
  {
   "cell_type": "code",
   "execution_count": 86,
   "metadata": {},
   "outputs": [
    {
     "data": {
      "text/plain": [
       "(7613, 23099)"
      ]
     },
     "execution_count": 86,
     "metadata": {},
     "output_type": "execute_result"
    }
   ],
   "source": [
    "all_vector.shape"
   ]
  },
  {
   "cell_type": "code",
   "execution_count": 87,
   "metadata": {},
   "outputs": [],
   "source": [
    "text_vector_tr = count_vectorizer.transform(train_data.text)\n",
    "text_vector_ts = count_vectorizer.transform(test_data.text)\n",
    "key_vector_tr = count_vectorizer.transform(train_data.keyword)\n",
    "key_vector_ts = count_vectorizer.transform(test_data.keyword)\n",
    "loc_vector_tr = count_vectorizer.transform(train_data.location)\n",
    "loc_vector_ts = count_vectorizer.transform(test_data.location)"
   ]
  },
  {
   "cell_type": "code",
   "execution_count": 88,
   "metadata": {},
   "outputs": [
    {
     "data": {
      "text/plain": [
       "13"
      ]
     },
     "execution_count": 88,
     "metadata": {},
     "output_type": "execute_result"
    }
   ],
   "source": [
    "text_vector_tr.max()"
   ]
  },
  {
   "cell_type": "code",
   "execution_count": 89,
   "metadata": {},
   "outputs": [],
   "source": [
    "x_train = hstack([text_vector_tr, key_vector_tr, loc_vector_tr])\n",
    "x_test = hstack([text_vector_ts, key_vector_ts, loc_vector_ts])\n",
    "y_train = train_data.target"
   ]
  },
  {
   "cell_type": "code",
   "execution_count": 90,
   "metadata": {},
   "outputs": [
    {
     "data": {
      "text/plain": [
       "(7613, 69297)"
      ]
     },
     "execution_count": 90,
     "metadata": {},
     "output_type": "execute_result"
    }
   ],
   "source": [
    "x_train.shape"
   ]
  },
  {
   "cell_type": "code",
   "execution_count": 91,
   "metadata": {},
   "outputs": [],
   "source": [
    "#clf = linear_model.RidgeClassifier()\n",
    "clf = LogisticRegression(max_iter=1000)\n",
    "#clf = RandomForestClassifier(random_state=42)"
   ]
  },
  {
   "cell_type": "code",
   "execution_count": 92,
   "metadata": {},
   "outputs": [
    {
     "data": {
      "text/plain": [
       "0.6325372259488835"
      ]
     },
     "execution_count": 92,
     "metadata": {},
     "output_type": "execute_result"
    }
   ],
   "source": [
    "scores = model_selection.cross_val_score(clf, x_train, y_train, cv=3, scoring='f1')\n",
    "scores.mean()"
   ]
  },
  {
   "cell_type": "code",
   "execution_count": 56,
   "metadata": {},
   "outputs": [],
   "source": [
    "clf.fit(x_train, y_train)\n",
    "submission.target = clf.predict(x_test)\n",
    "submission.to_csv('output.csv', index=False)"
   ]
  }
 ],
 "metadata": {
  "kernelspec": {
   "display_name": "Python 3",
   "language": "python",
   "name": "python3"
  },
  "language_info": {
   "codemirror_mode": {
    "name": "ipython",
    "version": 3
   },
   "file_extension": ".py",
   "mimetype": "text/x-python",
   "name": "python",
   "nbconvert_exporter": "python",
   "pygments_lexer": "ipython3",
   "version": "3.10.5"
  }
 },
 "nbformat": 4,
 "nbformat_minor": 2
}
